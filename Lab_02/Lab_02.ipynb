{
 "cells": [
  {
   "cell_type": "markdown",
   "metadata": {
    "id": "VYD4DM42Z5Zd"
   },
   "source": [
    "Import all the required libraries"
   ]
  },
  {
   "cell_type": "code",
   "execution_count": 473,
   "metadata": {
    "id": "aL4KT-lMXf-_"
   },
   "outputs": [],
   "source": [
    "import torch\n",
    "\n",
    "from torch import nn\n",
    "from torch.utils.data import DataLoader, random_split\n",
    "from torchvision import datasets, transforms\n",
    "from torchsummary import summary\n",
    "from torch import optim\n",
    "\n",
    "import re\n",
    "\n",
    "import torch.nn.functional as F\n",
    "\n",
    "import matplotlib.pyplot as plt"
   ]
  },
  {
   "cell_type": "markdown",
   "metadata": {},
   "source": [
    "Define all hyperparameters in a common place"
   ]
  },
  {
   "cell_type": "code",
   "execution_count": 474,
   "metadata": {},
   "outputs": [],
   "source": [
    "# batch_size = (2048-4) * 1024 * 1024 // (28*28*8)\n",
    "batch_size = 128\n",
    "alpha = .04\n",
    "n1 = 32\n",
    "n2 = 32\n",
    "loss = F.cross_entropy\n",
    "loss_name = re.sub(\"<function \", \"\", re.sub(\" at 0x[0-9a-f]*>\", \"\", loss.__repr__()))\n",
    "epochs = 20\n",
    "\n",
    "# batch_size = 128\n",
    "# alpha = 0.01\n",
    "# n1 = 256\n",
    "# n2 = 128\n",
    "# loss = F.cross_entropy\n",
    "# loss_name = re.sub(\"<function \", \"\", re.sub(\" at 0x[0-9a-f]*>\", \"\", loss.__repr__()))\n",
    "# epochs = 20"
   ]
  },
  {
   "cell_type": "markdown",
   "metadata": {
    "id": "Otfb6NXxaBQZ"
   },
   "source": [
    "Define the network as two linear layers with ReLU, and a linear layer with Softmax"
   ]
  },
  {
   "cell_type": "code",
   "execution_count": 475,
   "metadata": {
    "id": "CbXukDt6YUEU"
   },
   "outputs": [],
   "source": [
    "class FashionMNISTnn(nn.Module):\n",
    "  def __init__(self, n1, n2):\n",
    "    super().__init__()\n",
    "    self.network_stack = nn.Sequential(\n",
    "        nn.Flatten(),\n",
    "        nn.Linear(28*28, n1),\n",
    "        nn.ReLU(),\n",
    "        nn.Linear(n1, n2),\n",
    "        nn.ReLU(),\n",
    "        nn.Linear(n2, 10),\n",
    "        # nn.Softmax(1)\n",
    "    )\n",
    "\n",
    "  def forward(self, input):\n",
    "    return self.network_stack(input)"
   ]
  },
  {
   "cell_type": "markdown",
   "metadata": {
    "id": "tkhQonPRaXue"
   },
   "source": [
    "Compute average and standard deviation of the train set"
   ]
  },
  {
   "cell_type": "code",
   "execution_count": 476,
   "metadata": {
    "colab": {
     "base_uri": "https://localhost:8080/"
    },
    "executionInfo": {
     "elapsed": 5257,
     "status": "ok",
     "timestamp": 1729168324219,
     "user": {
      "displayName": "Francesco Risso",
      "userId": "12947299059700744179"
     },
     "user_tz": -120
    },
    "id": "yKVnR1EkZ3RM",
    "outputId": "94c094b4-d290-4d9c-c240-80288c0ee190"
   },
   "outputs": [
    {
     "name": "stdout",
     "output_type": "stream",
     "text": [
      "Avg: 0.286041, std: 0.353024\n"
     ]
    }
   ],
   "source": [
    "trans = transforms.ToTensor()\n",
    "\n",
    "dataset = datasets.FashionMNIST(\"./data\", train= True, download=True, transform=trans)\n",
    "dataset_as_np = dataset.data.numpy() /255\n",
    "\n",
    "mean = dataset_as_np.mean()\n",
    "std = dataset_as_np.std()\n",
    "\n",
    "print(f\"Avg: {mean:.6}, std: {std:.6}\")"
   ]
  },
  {
   "cell_type": "markdown",
   "metadata": {
    "id": "VWcOK2aMjyW2"
   },
   "source": [
    "Create the train and test datasets"
   ]
  },
  {
   "cell_type": "code",
   "execution_count": 477,
   "metadata": {
    "id": "BEHtIcETaArc"
   },
   "outputs": [],
   "source": [
    "trans = transforms.Compose([\n",
    "    transforms.ToTensor(),\n",
    "    transforms.Normalize(mean=(mean,), std=(std,))\n",
    "])\n",
    "\n",
    "# Note: transformations are applied by the dataloader\n",
    "main_dataset = datasets.FashionMNIST(\"./data\", train=True, download=True, transform=trans)\n",
    "test_dataset = datasets.FashionMNIST(\"./data\", train=False, download=True, transform=trans)\n",
    "\n",
    "# Split the train dataset into train and dev\n",
    "train_dataset, dev_dataset = random_split(main_dataset, [55000, 5000])"
   ]
  },
  {
   "cell_type": "markdown",
   "metadata": {
    "id": "4DR319rflCAo"
   },
   "source": [
    "Create train and test dataset loaders"
   ]
  },
  {
   "cell_type": "code",
   "execution_count": 478,
   "metadata": {
    "id": "7Vxl9xfwlJOF"
   },
   "outputs": [],
   "source": [
    "training_loader = DataLoader(train_dataset, batch_size=batch_size, shuffle=True)\n",
    "dev_loader = DataLoader(dev_dataset, batch_size=batch_size, shuffle=True)\n",
    "test_loader = DataLoader(test_dataset, batch_size=batch_size, shuffle=False)"
   ]
  },
  {
   "cell_type": "code",
   "execution_count": 479,
   "metadata": {},
   "outputs": [
    {
     "data": {
      "text/plain": [
       "Dataset FashionMNIST\n",
       "    Number of datapoints: 60000\n",
       "    Root location: ./data\n",
       "    Split: Train\n",
       "    StandardTransform\n",
       "Transform: Compose(\n",
       "               ToTensor()\n",
       "               Normalize(mean=(np.float64(0.2860405969887955),), std=(np.float64(0.35302424451492237),))\n",
       "           )"
      ]
     },
     "execution_count": 479,
     "metadata": {},
     "output_type": "execute_result"
    }
   ],
   "source": [
    "main_dataset"
   ]
  },
  {
   "cell_type": "markdown",
   "metadata": {
    "id": "htSNMxLspLqQ"
   },
   "source": [
    "Define training function"
   ]
  },
  {
   "cell_type": "code",
   "execution_count": 480,
   "metadata": {
    "id": "9_fT9B3ZpN6X"
   },
   "outputs": [],
   "source": [
    "def train(model, device, dataset, optimiz, epoch, costF):\n",
    "  model.train()\n",
    "\n",
    "  for batch_idx, (data, target) in enumerate(dataset):\n",
    "    # Move train data to the training device (likely GPU)\n",
    "    data = data.to(device)\n",
    "    target = target.to(device)\n",
    "\n",
    "    # Reset gradient\n",
    "    optimiz.zero_grad()\n",
    "\n",
    "    # Forward propagation\n",
    "    out = model(data)\n",
    "\n",
    "    # Loss and backpropagation\n",
    "    cost = costF(out, target)\n",
    "    cost.backward()\n",
    "    optimiz.step()\n",
    "\n",
    "    # print(f\"Epoch {epoch:02} - batch: {batch_idx:02} ==> Loss: {cost:2.04}\")"
   ]
  },
  {
   "cell_type": "markdown",
   "metadata": {
    "id": "ogearQ10rorV"
   },
   "source": [
    "Define test function"
   ]
  },
  {
   "cell_type": "code",
   "execution_count": 481,
   "metadata": {
    "id": "O52dczLcrqSH"
   },
   "outputs": [],
   "source": [
    "def test(model, device, dataset, costF, setName):\n",
    "  # Set model in evaluation mode\n",
    "  model.eval()\n",
    "\n",
    "  # Init total loss and correct predictions\n",
    "  loss = 0.0\n",
    "  correct_pred = 0\n",
    "\n",
    "  ## DEBUG\n",
    "  count = 0\n",
    "\n",
    "  for data, target in dataset:\n",
    "    # Move train data to the training device (likely GPU)\n",
    "    data = data.to(device)\n",
    "    target = target.to(device)\n",
    "\n",
    "    # Forward propagation\n",
    "    out = model(data)\n",
    "\n",
    "    # Define the model prediction as the class with higher probability\n",
    "    pred = out.argmax(dim=1, keepdim=True)\n",
    "\n",
    "    # Try to reshape the arrays into what they already are\n",
    "    # If there were errors in the setup, this will create errors\n",
    "\n",
    "    # sanity check\n",
    "    batch_size = data.shape[0]\n",
    "    pred = pred.view(batch_size)  # [bs,]\n",
    "    target = target.view(batch_size)  # [bs,]\n",
    "\n",
    "    # Sum the loss of all inputs\n",
    "    loss += costF(out, target, reduction='sum').item()\n",
    "\n",
    "    # Sum the number of correct predictions\n",
    "    correct_pred += pred.eq(target).sum().item()\n",
    "\n",
    "  # Compute statistics\n",
    "  num_samples = len(dataset.dataset)\n",
    "  avg_loss = loss / num_samples\n",
    "  accuracy = float(correct_pred) / num_samples\n",
    "\n",
    "  # Print statistics\n",
    "#   print(f\"{setName} ==> Avg epoch loss: {avg_loss:2.04} - accuracy: {accuracy:2.04}\")\n",
    "\n",
    "  return avg_loss, accuracy\n"
   ]
  },
  {
   "cell_type": "code",
   "execution_count": 482,
   "metadata": {},
   "outputs": [
    {
     "name": "stdout",
     "output_type": "stream",
     "text": [
      "FashionMNISTnn(\n",
      "  (network_stack): Sequential(\n",
      "    (0): Flatten(start_dim=1, end_dim=-1)\n",
      "    (1): Linear(in_features=784, out_features=32, bias=True)\n",
      "    (2): ReLU()\n",
      "    (3): Linear(in_features=32, out_features=32, bias=True)\n",
      "    (4): ReLU()\n",
      "    (5): Linear(in_features=32, out_features=10, bias=True)\n",
      "  )\n",
      ")\n"
     ]
    }
   ],
   "source": [
    "dev = torch.device('cuda')# if torch.cuda.is_available() else torch.device(\"cpu\")\n",
    "\n",
    "model = FashionMNISTnn(n1=n1, n2=n2)\n",
    "model.to(dev)\n",
    "\n",
    "print(model)"
   ]
  },
  {
   "cell_type": "code",
   "execution_count": 483,
   "metadata": {},
   "outputs": [
    {
     "name": "stdout",
     "output_type": "stream",
     "text": [
      "----------------------------------------------------------------\n",
      "        Layer (type)               Output Shape         Param #\n",
      "================================================================\n",
      "           Flatten-1                  [-1, 784]               0\n",
      "            Linear-2                   [-1, 32]          25,120\n",
      "              ReLU-3                   [-1, 32]               0\n",
      "            Linear-4                   [-1, 32]           1,056\n",
      "              ReLU-5                   [-1, 32]               0\n",
      "            Linear-6                   [-1, 10]             330\n",
      "================================================================\n",
      "Total params: 26,506\n",
      "Trainable params: 26,506\n",
      "Non-trainable params: 0\n",
      "----------------------------------------------------------------\n",
      "Input size (MB): 0.00\n",
      "Forward/backward pass size (MB): 0.01\n",
      "Params size (MB): 0.10\n",
      "Estimated Total Size (MB): 0.11\n",
      "----------------------------------------------------------------\n",
      "None\n"
     ]
    }
   ],
   "source": [
    "print(summary(model, (1, 28, 28)))"
   ]
  },
  {
   "cell_type": "markdown",
   "metadata": {
    "id": "7bHLHOrbK4hS"
   },
   "source": [
    "Train the model, and test it on the dev set"
   ]
  },
  {
   "cell_type": "code",
   "execution_count": 484,
   "metadata": {
    "colab": {
     "base_uri": "https://localhost:8080/"
    },
    "id": "WZbtM2PJK4AM",
    "outputId": "fe2d4c64-c52a-42c7-e021-b41ae86da0b0"
   },
   "outputs": [
    {
     "name": "stdout",
     "output_type": "stream",
     "text": [
      "HYPERPARAMETERS:\n",
      "\t- batch size: 128\n",
      "\t- learning rate: 0.04\n",
      "\t- n1: 32\n",
      "\t- n2: 32\n",
      "\t- loss: cross_entropy\n",
      "\t- epochs: 20\n",
      "\n",
      "+-------+---------------------+---------------------+\n",
      "|       |      TRAIN set      |       DEV set       |\n",
      "+ Epoch +----------+----------+----------+----------+\n",
      "|       | Avg loss | Accuracy | Avg loss | Accuracy |\n",
      "+-------+----------+----------+----------+----------+\n"
     ]
    },
    {
     "name": "stdout",
     "output_type": "stream",
     "text": [
      "|     0 |   0.423  |  84.72 % |   0.439  |  83.90 % |\n",
      "+-------+----------+----------+----------+----------+\n",
      "|     1 |   0.376  |  85.69 % |   0.404  |  85.08 % |\n",
      "+-------+----------+----------+----------+----------+\n",
      "|     2 |   0.371  |  86.07 % |   0.410  |  84.88 % |\n",
      "+-------+----------+----------+----------+----------+\n",
      "|     3 |   0.314  |  88.38 % |   0.365  |  86.60 % |\n",
      "+-------+----------+----------+----------+----------+\n",
      "|     4 |   0.302  |  88.55 % |   0.365  |  86.80 % |\n",
      "+-------+----------+----------+----------+----------+\n",
      "|     5 |   0.281  |  89.52 % |   0.349  |  87.18 % |\n",
      "+-------+----------+----------+----------+----------+\n",
      "|     6 |   0.282  |  89.25 % |   0.355  |  87.36 % |\n",
      "+-------+----------+----------+----------+----------+\n",
      "|     7 |   0.281  |  89.61 % |   0.356  |  87.38 % |\n",
      "+-------+----------+----------+----------+----------+\n",
      "|     8 |   0.296  |  88.91 % |   0.374  |  86.54 % |\n",
      "+-------+----------+----------+----------+----------+\n",
      "|     9 |   0.252  |  90.55 % |   0.350  |  88.08 % |\n",
      "+-------+----------+----------+----------+----------+\n",
      "|    10 |   0.259  |  90.29 % |   0.355  |  87.68 % |\n",
      "+-------+----------+----------+----------+----------+\n",
      "|    11 |   0.250  |  90.57 % |   0.360  |  86.98 % |\n",
      "+-------+----------+----------+----------+----------+\n",
      "|    12 |   0.252  |  90.54 % |   0.361  |  87.42 % |\n",
      "+-------+----------+----------+----------+----------+\n",
      "|    13 |   0.226  |  91.54 % |   0.349  |  87.86 % |\n",
      "+-------+----------+----------+----------+----------+\n",
      "|    14 |   0.231  |  91.30 % |   0.360  |  87.30 % |\n",
      "+-------+----------+----------+----------+----------+\n",
      "|    15 |   0.234  |  91.14 % |   0.365  |  87.48 % |\n",
      "+-------+----------+----------+----------+----------+\n",
      "|    16 |   0.230  |  91.31 % |   0.370  |  87.82 % |\n",
      "+-------+----------+----------+----------+----------+\n",
      "|    17 |   0.249  |  90.44 % |   0.383  |  87.12 % |\n",
      "+-------+----------+----------+----------+----------+\n",
      "|    18 |   0.235  |  91.30 % |   0.388  |  87.76 % |\n",
      "+-------+----------+----------+----------+----------+\n",
      "|    19 |   0.239  |  90.69 % |   0.388  |  86.86 % |\n",
      "+-------+----------+----------+----------+----------+\n"
     ]
    }
   ],
   "source": [
    "optimiz = optim.SGD(model.parameters(), lr = alpha, momentum=0.9)\n",
    "\n",
    "epochs_list = []\n",
    "train_losses = []\n",
    "dev_losses = []\n",
    "\n",
    "print(\"HYPERPARAMETERS:\")\n",
    "print(f\"\\t- batch size: {batch_size}\")\n",
    "print(f\"\\t- learning rate: {alpha}\")\n",
    "print(f\"\\t- n1: {n1}\")\n",
    "print(f\"\\t- n2: {n2}\")\n",
    "print(f\"\\t- loss: {loss_name}\")\n",
    "print(f\"\\t- epochs: {epochs}\")\n",
    "print(\"\")\n",
    "\n",
    "print(\"+-------+---------------------+---------------------+\")\n",
    "print(\"|       |      TRAIN set      |       DEV set       |\")\n",
    "print(\"+ Epoch +----------+----------+----------+----------+\")\n",
    "print(\"|       | Avg loss | Accuracy | Avg loss | Accuracy |\")\n",
    "print(\"+-------+----------+----------+----------+----------+\")\n",
    "\n",
    "for epoch in range(epochs):\n",
    "  train(model, dev, training_loader, optimiz, epoch, loss)\n",
    "\n",
    "  train_loss, train_acc = test(model, dev, training_loader, loss, \"TRAIN\")\n",
    "  dev_loss, dev_acc = test(model, dev, dev_loader, loss, \"DEV\")\n",
    "\n",
    "  train_losses.append(train_loss)\n",
    "  dev_losses.append(dev_loss)\n",
    "  epochs_list.append(epoch)\n",
    "\n",
    "  print(f\"| {epoch:5} |\", end=\"\")\n",
    "  print(f\"  {train_loss:6.3f}  | {100*train_acc:6.2f} % |\", end=\"\")\n",
    "  print(f\"  {dev_loss:6.3f}  | {100*dev_acc:6.2f} % |\")\n",
    "\n",
    "  plt.figure()\n",
    "  plt.plot(epochs_list, train_losses, label=\"Train\", marker='o')\n",
    "  plt.plot(epochs_list, dev_losses, label=\"Dev\", marker='o')\n",
    "\n",
    "  plt.title(\"Average loss at epochs\")\n",
    "\n",
    "  plt.xlabel(\"Epoch\")\n",
    "  plt.xticks(epochs_list)\n",
    "\n",
    "  plt.ylabel(\"Loss\")\n",
    "  plt.ylim(bottom=0)\n",
    "\n",
    "  plt.legend()\n",
    "  plt.savefig(\"loss.png\")\n",
    "  plt.close()\n",
    "  print(\"+-------+----------+----------+----------+----------+\")\n"
   ]
  }
 ],
 "metadata": {
  "accelerator": "GPU",
  "colab": {
   "authorship_tag": "ABX9TyOiUSX0Qmt6iN4h3IL17y3+",
   "gpuType": "T4",
   "mount_file_id": "1btETL4bUtc1Sonrn_WYOD3AsNit9W-Cw",
   "provenance": []
  },
  "kernelspec": {
   "display_name": ".venv",
   "language": "python",
   "name": "python3"
  },
  "language_info": {
   "codemirror_mode": {
    "name": "ipython",
    "version": 3
   },
   "file_extension": ".py",
   "mimetype": "text/x-python",
   "name": "python",
   "nbconvert_exporter": "python",
   "pygments_lexer": "ipython3",
   "version": "3.12.3"
  }
 },
 "nbformat": 4,
 "nbformat_minor": 0
}
