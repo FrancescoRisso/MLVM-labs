{
 "cells": [
  {
   "cell_type": "code",
   "execution_count": 37,
   "metadata": {},
   "outputs": [],
   "source": [
    "from torch import nn\n",
    "import torch"
   ]
  },
  {
   "cell_type": "markdown",
   "metadata": {},
   "source": [
    "# Inception module"
   ]
  },
  {
   "cell_type": "code",
   "execution_count": 38,
   "metadata": {},
   "outputs": [],
   "source": [
    "class Inception(nn.Module):\n",
    "    def __init__(self):\n",
    "        super().__init__()\n",
    "\n",
    "        def get_SAME_conv(size: int, in_chan: int, out_chan: int):\n",
    "            p = (size - 1) // 2\n",
    "            return nn.Conv2d(\n",
    "                in_channels=in_chan,\n",
    "                out_channels=out_chan,\n",
    "                kernel_size=(size, size),\n",
    "                bias=False,\n",
    "                stride=(1, 1),\n",
    "                padding=(p, p)\n",
    "            )\n",
    "\n",
    "        conv1x1 = get_SAME_conv(1, 192, 64)\n",
    "\n",
    "        conv3x3 = nn.Sequential(\n",
    "            get_SAME_conv(1, 192, 32),\n",
    "            get_SAME_conv(3, 32, 128)\n",
    "        )\n",
    "\n",
    "        conv5x5 = nn.Sequential(\n",
    "            get_SAME_conv(1, 192, 32),\n",
    "            get_SAME_conv(5, 32, 32)\n",
    "        )\n",
    "\n",
    "        pool = nn.Sequential(\n",
    "            nn.MaxPool2d(\n",
    "                kernel_size=(3, 3),\n",
    "                stride=1,\n",
    "                padding=(28, 28),\n",
    "            ),\n",
    "            get_SAME_conv(1, 192, 32)\n",
    "        )\n",
    "\n",
    "        self.network = nn.ModuleList((conv1x1, conv3x3, conv5x5, pool))\n",
    "\n",
    "    def forward(self, input):\n",
    "        outs = [model(input) for model in self.network]\n",
    "        return torch.cat(tuple(outs))"
   ]
  },
  {
   "cell_type": "code",
   "execution_count": 39,
   "metadata": {},
   "outputs": [
    {
     "name": "stdout",
     "output_type": "stream",
     "text": [
      "Inception(\n",
      "  (network): ModuleList(\n",
      "    (0): Conv2d(192, 64, kernel_size=(1, 1), stride=(1, 1), bias=False)\n",
      "    (1): Sequential(\n",
      "      (0): Conv2d(192, 32, kernel_size=(1, 1), stride=(1, 1), bias=False)\n",
      "      (1): Conv2d(32, 128, kernel_size=(3, 3), stride=(1, 1), padding=(1, 1), bias=False)\n",
      "    )\n",
      "    (2): Sequential(\n",
      "      (0): Conv2d(192, 32, kernel_size=(1, 1), stride=(1, 1), bias=False)\n",
      "      (1): Conv2d(32, 32, kernel_size=(5, 5), stride=(1, 1), padding=(2, 2), bias=False)\n",
      "    )\n",
      "    (3): Sequential(\n",
      "      (0): MaxPool2d(kernel_size=(3, 3), stride=1, padding=(28, 28), dilation=1, ceil_mode=False)\n",
      "      (1): Conv2d(192, 32, kernel_size=(1, 1), stride=(1, 1), bias=False)\n",
      "    )\n",
      "  )\n",
      ")\n"
     ]
    }
   ],
   "source": [
    "model = Inception()\n",
    "print(model)"
   ]
  },
  {
   "cell_type": "markdown",
   "metadata": {},
   "source": [
    "# Residual network"
   ]
  },
  {
   "cell_type": "code",
   "execution_count": null,
   "metadata": {},
   "outputs": [],
   "source": [
    "class BN_ReLU_Dropout_conv(nn.Module):\n",
    "    def __init__(self, input_size):\n",
    "        super().__init__()\n",
    "        \n",
    "        self.block = nn.ModuleDict({\n",
    "            \"BN\": nn.BatchNorm1d(num_features=input_size),\n",
    "            \"ReLU\": nn.ReLU(),\n",
    "            \"Dropout\": nn.Dropout(),\n",
    "            \"conv\": nn.Conv1d(in_channels=64, out_channels=64, kernel_size=16)\n",
    "        })\n",
    "\n",
    "        \n",
    "    \n",
    "    def forward(self, input):\n",
    "        return self.block(input)\n",
    "    \n",
    "    def get_out_size(self):\n",
    "        return \n",
    "\n",
    "class SmallBlock(nn.Module):\n",
    "    def __init__(self, input_size):\n",
    "        super().__init__()\n",
    "        \n",
    "        self.block = nn.ModuleDict({\n",
    "            \"conv\": nn.Conv1d(in_channels=64, out_channels=64, kernel_size=16),\n",
    "            \"BN, ReLU, Dropout, conv\": BN_ReLU_Dropout_conv(input_size - 15)\n",
    "        })\n",
    "    \n",
    "    def forward(self, input):\n",
    "        return self.block(input)\n",
    "    \n",
    "    def get_out_size(self):\n",
    "\n",
    "\n",
    "\n",
    "\n",
    "class Residual(nn.Module):\n",
    "    def __init__(self):\n",
    "        super().__init__()\n",
    "\n",
    "        input_size = 200*30\n",
    "        \n",
    "        network = {}\n",
    "        \n",
    "        network[\"start\"] = nn.ModuleDict({\n",
    "            \"conv\": nn.Conv1d(in_channels=1, out_channels=64, kernel_size=16),\n",
    "            \"BN\": nn.BatchNorm1d(num_features=(input_size-15)),\n",
    "            \"ReLU\": nn.ReLU()\n",
    "        })\n",
    "        input_size -= 15\n",
    "\n",
    "        network[\"small block\"] = SmallBlock()\n",
    "\n",
    "        self.network = nn.ModuleDict(network)\n",
    "\n",
    "    def forward(self, input):\n",
    "        return self.network(input)"
   ]
  },
  {
   "cell_type": "code",
   "execution_count": 41,
   "metadata": {},
   "outputs": [
    {
     "name": "stdout",
     "output_type": "stream",
     "text": [
      "Residual(\n",
      "  (network): ModuleDict(\n",
      "    (start): ModuleDict(\n",
      "      (conv): Conv1d(1, 64, kernel_size=(16,), stride=(1,))\n",
      "      (BN): BatchNorm1d(375, eps=1e-05, momentum=0.1, affine=True, track_running_stats=True)\n",
      "      (ReLU): ReLU()\n",
      "    )\n",
      "    (test): Prova(\n",
      "      (tmp): ReLU()\n",
      "    )\n",
      "  )\n",
      ")\n"
     ]
    }
   ],
   "source": [
    "model = Residual()\n",
    "print(model)"
   ]
  }
 ],
 "metadata": {
  "kernelspec": {
   "display_name": ".venv",
   "language": "python",
   "name": "python3"
  },
  "language_info": {
   "codemirror_mode": {
    "name": "ipython",
    "version": 3
   },
   "file_extension": ".py",
   "mimetype": "text/x-python",
   "name": "python",
   "nbconvert_exporter": "python",
   "pygments_lexer": "ipython3",
   "version": "3.12.3"
  }
 },
 "nbformat": 4,
 "nbformat_minor": 2
}
